{
 "cells": [
  {
   "cell_type": "markdown",
   "metadata": {},
   "source": [
    "## Project 4 - Notebook 1 - WebScrapping (by Wilson Alberto Torres)"
   ]
  },
  {
   "cell_type": "code",
   "execution_count": 24,
   "metadata": {},
   "outputs": [],
   "source": [
    "# importing libraries\n",
    "from selenium.webdriver.support.ui import WebDriverWait\n",
    "import pandas as pd\n",
    "from selenium import webdriver\n",
    "from selenium.webdriver.common.keys import Keys\n",
    "import requests\n",
    "from bs4 import BeautifulSoup\n",
    "from selenium.webdriver.common.by import By\n",
    "import urllib.request, urllib.parse, urllib.error\n",
    "from time import sleep"
   ]
  },
  {
   "cell_type": "code",
   "execution_count": 2,
   "metadata": {},
   "outputs": [
    {
     "name": "stderr",
     "output_type": "stream",
     "text": [
      "<ipython-input-2-ed93348a8973>:3: DeprecationWarning: use options instead of chrome_options\n",
      "  driver_1 = webdriver.Chrome(executable_path=\"./chromedriver/chromedriver\",chrome_options=chrome_options)\n"
     ]
    }
   ],
   "source": [
    "# Instantiation of the web-driver: Selenium\n",
    "chrome_options = webdriver.ChromeOptions()\n",
    "chrome_options.headless = True\n",
    "driver_1 = webdriver.Chrome(executable_path=\"./chromedriver/chromedriver\",chrome_options=chrome_options)\n",
    "url_root = \"https://www.seek.com.au/\"\n",
    "#driver.get(url_root)"
   ]
  },
  {
   "cell_type": "code",
   "execution_count": 3,
   "metadata": {
    "pycharm": {
     "name": "#%%\n"
    }
   },
   "outputs": [],
   "source": [
    "# This function generates a list of the URLs for web-scraping\n",
    "def list_url_def(url_base,job,location,max,sal_range):\n",
    "    ret_list = []\n",
    "    for i in range(1,max+1):\n",
    "        url_str = url_base+job+'-jobs/in-'+location+'?page='+str(i)+'&salaryrange='+sal_range+'&salarytype=annual'\n",
    "        #print(url_str)\n",
    "        ret_list.append(url_str)\n",
    "    return ret_list"
   ]
  },
  {
   "cell_type": "code",
   "execution_count": 4,
   "metadata": {
    "pycharm": {
     "name": "#%%\n"
    }
   },
   "outputs": [],
   "source": [
    "# This function scrapes job information from the website \"www.seek.com.au\"\n",
    "def web_scrape_func(list_urls, s_keyword, loc, range_sal):\n",
    "    data_jobs = []\n",
    "\n",
    "    for each_url in list_urls:\n",
    "        driver = webdriver.Chrome(executable_path=\"./chromedriver/chromedriver\",chrome_options=chrome_options)\n",
    "        print(each_url)\n",
    "        driver.get(each_url)\n",
    "\n",
    "        for eachp in range(20):\n",
    "            each_job = {}\n",
    "            each_job['s_keyword'] = s_keyword\n",
    "            each_job['s_loc'] = loc\n",
    "            each_job['range_sal'] = range_sal\n",
    "            each_job['job_title'] = driver.find_elements_by_xpath('//article')[eachp].get_attribute('aria-label')\n",
    "            each_job['job_id'] = driver.find_elements_by_xpath('//article')[eachp].get_attribute('data-job-id')\n",
    "            id_str = each_job['job_id']\n",
    "            #print(id_str)\n",
    "\n",
    "            try:\n",
    "                str_city = '//article[@data-job-id=\"'+id_str+'\"]/div[1]/span[2]/span/strong/span/a'\n",
    "                each_job['city'] = driver.find_element_by_xpath(str_city).text\n",
    "            except:\n",
    "                each_job['city'] = 'no info'\n",
    "\n",
    "            str_aurl = '//article[@data-job-id=\"'+id_str+'\"]/span[5]/span/a'\n",
    "            try:\n",
    "                each_job['job_agency_url'] = driver.find_element_by_xpath(str_aurl).get_attribute('href')\n",
    "            except:\n",
    "                each_job['job_agency_url'] = 'no info'\n",
    "\n",
    "            try:\n",
    "                each_job['job_agency'] = driver.find_element_by_xpath(str_aurl).text\n",
    "            except:\n",
    "                each_job['job_agency'] = 'no info'\n",
    "\n",
    "            try:\n",
    "                str_type = '//article[@data-job-id=\"'+id_str+'\"]/div[1]/span[1]/p'\n",
    "                each_job['job_type'] = driver.find_element_by_xpath(str_type).text\n",
    "            except:\n",
    "                each_job['job_type'] = 'no info'\n",
    "\n",
    "            try:\n",
    "                str_sal = '//article[@data-job-id=\"'+id_str+'\"]/div[1]/span[@data-automation=\"jobSalary\"]'\n",
    "                each_job['job_salary'] = driver.find_element_by_xpath(str_sal).text\n",
    "            except:\n",
    "                each_job['job_salary'] = 'no info'\n",
    "\n",
    "            try:\n",
    "                str_fld = '//article[@data-job-id=\"'+id_str+'\"]/div[1]/span[4]/span/span/strong/span/a'\n",
    "                each_job['job_field'] = driver.find_element_by_xpath(str_fld).text\n",
    "            except:\n",
    "                str_fld = '//article[@data-job-id=\"'+id_str+'\"]/div[1]/span[3]/span/span/strong/span/a'\n",
    "                each_job['job_field'] = driver.find_element_by_xpath(str_fld).text\n",
    "\n",
    "            try:\n",
    "                str_fld1 = '//article[@data-job-id=\"'+id_str+'\"]/div[1]/span[4]/span/span/span/a'\n",
    "                each_job['job_subfield'] = driver.find_element_by_xpath(str_fld1).text\n",
    "            except:\n",
    "                str_fld1 = '//article[@data-job-id=\"'+id_str+'\"]/div[1]/span[3]/span/span/span/a'\n",
    "                each_job['job_subfield'] = driver.find_element_by_xpath(str_fld1).text\n",
    "\n",
    "            try:\n",
    "                str_des = '//article[@data-job-id=\"'+id_str+'\"]/span[6]/span'\n",
    "                each_job['job_des'] = driver.find_element_by_xpath(str_des).text\n",
    "            except:\n",
    "                each_job['job_des'] = 'no info'\n",
    "\n",
    "            try:\n",
    "                str_url = '//article[@data-job-id=\"'+id_str+'\"]/span[2]/span/h1/a'\n",
    "                url_job = driver.find_element_by_xpath(str_url).get_attribute('href')\n",
    "                each_job['job_url'] = url_job\n",
    "                inter_web = web_scrape_internal_web(url_job)\n",
    "                each_job['job_date'] = inter_web[0]\n",
    "                each_job['job_full_desc'] = inter_web[1]\n",
    "            except:\n",
    "                each_job['job_url'] = 'no info'\n",
    "                each_job['job_date'] = 'no info'\n",
    "                each_job['job_full_desc'] = 'no info'\n",
    "\n",
    "            data_jobs.append(each_job)\n",
    "\n",
    "        driver.close()\n",
    "    return data_jobs"
   ]
  },
  {
   "cell_type": "code",
   "execution_count": 5,
   "metadata": {
    "pycharm": {
     "name": "#%%\n"
    }
   },
   "outputs": [],
   "source": [
    "# Web scrape full job description web site\n",
    "def web_scrape_internal_web(url_in):\n",
    "    #print(url_in)\n",
    "    driver_in = webdriver.Chrome(executable_path=\"./chromedriver/chromedriver\",chrome_options=chrome_options)\n",
    "    driver_in.get(url_in)\n",
    "    job_desc = driver_in.find_element_by_xpath('//div[@data-automation=\"jobDescription\"]').text\n",
    "\n",
    "    #url_2 = driver.find_element_by_xpath('//div[@data-automation=\"jobDescription\"]/span/span').text\n",
    "    job_date = driver_in.find_element_by_xpath('//*[@id=\"app\"]/div/div/div[4]/div/div[2]/div/div/div[2]/div/div[2]/div/aside/span/div[2]/div/section/dl/dd[1]/span/span').text\n",
    "\n",
    "    list_ret = list((job_date, job_desc))\n",
    "    driver_in.quit()\n",
    "    #print(job_desc)\n",
    "    #print(job_date)\n",
    "    return list_ret\n"
   ]
  },
  {
   "cell_type": "code",
   "execution_count": 6,
   "metadata": {
    "pycharm": {
     "name": "#%%\n"
    }
   },
   "outputs": [],
   "source": [
    "# Setting up parameters\n",
    "search_keywords = [\"data-science\",\"data-engineer\",\"data-analyst\",\"machine-learning-engineer\"]\n",
    "locations = [\"All-Melbourne-VIC\", \"All-Sydney-NSW\"]\n",
    "range_salary = [\"30000-60000\",\"70000-100000\",\"120000-200000\"]\n"
   ]
  },
  {
   "cell_type": "code",
   "execution_count": 10,
   "metadata": {
    "pycharm": {
     "name": "#%%\n"
    },
    "scrolled": true
   },
   "outputs": [
    {
     "name": "stdout",
     "output_type": "stream",
     "text": [
      "https://www.seek.com.au/data-engineer-jobs/in-All-Melbourne-VIC?salaryrange=30000-60000&salarytype=annual\n"
     ]
    },
    {
     "name": "stderr",
     "output_type": "stream",
     "text": [
      "<ipython-input-10-a824f292ef41>:5: DeprecationWarning: use options instead of chrome_options\n",
      "  driver_2 = webdriver.Chrome(executable_path=\"./chromedriver/chromedriver\",chrome_options=chrome_options)\n"
     ]
    },
    {
     "name": "stdout",
     "output_type": "stream",
     "text": [
      "<class 'str'>\n",
      "Number of jobs in this page: 58\n",
      "Number of web pages to process: 2\n"
     ]
    },
    {
     "name": "stderr",
     "output_type": "stream",
     "text": [
      "<ipython-input-4-162f1612d82f>:6: DeprecationWarning: use options instead of chrome_options\n",
      "  driver = webdriver.Chrome(executable_path=\"./chromedriver/chromedriver\",chrome_options=chrome_options)\n"
     ]
    },
    {
     "name": "stdout",
     "output_type": "stream",
     "text": [
      "https://www.seek.com.au/data-engineer-jobs/in-All-Melbourne-VIC?page=1&salaryrange=30000-60000&salarytype=annual\n"
     ]
    },
    {
     "name": "stderr",
     "output_type": "stream",
     "text": [
      "<ipython-input-5-d1af21a69f93>:3: DeprecationWarning: use options instead of chrome_options\n",
      "  driver_in = webdriver.Chrome(executable_path=\"./chromedriver/chromedriver\",chrome_options=chrome_options)\n"
     ]
    },
    {
     "name": "stdout",
     "output_type": "stream",
     "text": [
      "https://www.seek.com.au/data-engineer-jobs/in-All-Melbourne-VIC?page=2&salaryrange=30000-60000&salarytype=annual\n",
      "https://www.seek.com.au/data-engineer-jobs/in-All-Melbourne-VIC?salaryrange=70000-100000&salarytype=annual\n",
      "<class 'str'>\n",
      "Number of jobs in this page: 228\n",
      "Number of web pages to process: 11\n",
      "https://www.seek.com.au/data-engineer-jobs/in-All-Melbourne-VIC?page=1&salaryrange=70000-100000&salarytype=annual\n",
      "https://www.seek.com.au/data-engineer-jobs/in-All-Melbourne-VIC?page=2&salaryrange=70000-100000&salarytype=annual\n",
      "https://www.seek.com.au/data-engineer-jobs/in-All-Melbourne-VIC?page=3&salaryrange=70000-100000&salarytype=annual\n",
      "https://www.seek.com.au/data-engineer-jobs/in-All-Melbourne-VIC?page=4&salaryrange=70000-100000&salarytype=annual\n",
      "https://www.seek.com.au/data-engineer-jobs/in-All-Melbourne-VIC?page=5&salaryrange=70000-100000&salarytype=annual\n",
      "https://www.seek.com.au/data-engineer-jobs/in-All-Melbourne-VIC?page=6&salaryrange=70000-100000&salarytype=annual\n",
      "https://www.seek.com.au/data-engineer-jobs/in-All-Melbourne-VIC?page=7&salaryrange=70000-100000&salarytype=annual\n",
      "https://www.seek.com.au/data-engineer-jobs/in-All-Melbourne-VIC?page=8&salaryrange=70000-100000&salarytype=annual\n",
      "https://www.seek.com.au/data-engineer-jobs/in-All-Melbourne-VIC?page=9&salaryrange=70000-100000&salarytype=annual\n",
      "https://www.seek.com.au/data-engineer-jobs/in-All-Melbourne-VIC?page=10&salaryrange=70000-100000&salarytype=annual\n",
      "https://www.seek.com.au/data-engineer-jobs/in-All-Melbourne-VIC?page=11&salaryrange=70000-100000&salarytype=annual\n",
      "https://www.seek.com.au/data-engineer-jobs/in-All-Melbourne-VIC?salaryrange=120000-200000&salarytype=annual\n",
      "<class 'str'>\n",
      "Number of jobs in this page: 268\n",
      "Number of web pages to process: 13\n",
      "https://www.seek.com.au/data-engineer-jobs/in-All-Melbourne-VIC?page=1&salaryrange=120000-200000&salarytype=annual\n",
      "https://www.seek.com.au/data-engineer-jobs/in-All-Melbourne-VIC?page=2&salaryrange=120000-200000&salarytype=annual\n",
      "https://www.seek.com.au/data-engineer-jobs/in-All-Melbourne-VIC?page=3&salaryrange=120000-200000&salarytype=annual\n",
      "https://www.seek.com.au/data-engineer-jobs/in-All-Melbourne-VIC?page=4&salaryrange=120000-200000&salarytype=annual\n",
      "https://www.seek.com.au/data-engineer-jobs/in-All-Melbourne-VIC?page=5&salaryrange=120000-200000&salarytype=annual\n",
      "https://www.seek.com.au/data-engineer-jobs/in-All-Melbourne-VIC?page=6&salaryrange=120000-200000&salarytype=annual\n",
      "https://www.seek.com.au/data-engineer-jobs/in-All-Melbourne-VIC?page=7&salaryrange=120000-200000&salarytype=annual\n",
      "https://www.seek.com.au/data-engineer-jobs/in-All-Melbourne-VIC?page=8&salaryrange=120000-200000&salarytype=annual\n",
      "https://www.seek.com.au/data-engineer-jobs/in-All-Melbourne-VIC?page=9&salaryrange=120000-200000&salarytype=annual\n",
      "https://www.seek.com.au/data-engineer-jobs/in-All-Melbourne-VIC?page=10&salaryrange=120000-200000&salarytype=annual\n",
      "https://www.seek.com.au/data-engineer-jobs/in-All-Melbourne-VIC?page=11&salaryrange=120000-200000&salarytype=annual\n",
      "https://www.seek.com.au/data-engineer-jobs/in-All-Melbourne-VIC?page=12&salaryrange=120000-200000&salarytype=annual\n",
      "https://www.seek.com.au/data-engineer-jobs/in-All-Melbourne-VIC?page=13&salaryrange=120000-200000&salarytype=annual\n",
      "https://www.seek.com.au/data-engineer-jobs/in-All-Sydney-NSW?salaryrange=30000-60000&salarytype=annual\n",
      "<class 'str'>\n",
      "Number of jobs in this page: 77\n",
      "Number of web pages to process: 3\n",
      "https://www.seek.com.au/data-engineer-jobs/in-All-Sydney-NSW?page=1&salaryrange=30000-60000&salarytype=annual\n",
      "https://www.seek.com.au/data-engineer-jobs/in-All-Sydney-NSW?page=2&salaryrange=30000-60000&salarytype=annual\n",
      "https://www.seek.com.au/data-engineer-jobs/in-All-Sydney-NSW?page=3&salaryrange=30000-60000&salarytype=annual\n",
      "https://www.seek.com.au/data-engineer-jobs/in-All-Sydney-NSW?salaryrange=70000-100000&salarytype=annual\n",
      "<class 'str'>\n",
      "Number of jobs in this page: 347\n",
      "Number of web pages to process: 17\n",
      "https://www.seek.com.au/data-engineer-jobs/in-All-Sydney-NSW?page=1&salaryrange=70000-100000&salarytype=annual\n",
      "https://www.seek.com.au/data-engineer-jobs/in-All-Sydney-NSW?page=2&salaryrange=70000-100000&salarytype=annual\n",
      "https://www.seek.com.au/data-engineer-jobs/in-All-Sydney-NSW?page=3&salaryrange=70000-100000&salarytype=annual\n",
      "https://www.seek.com.au/data-engineer-jobs/in-All-Sydney-NSW?page=4&salaryrange=70000-100000&salarytype=annual\n",
      "https://www.seek.com.au/data-engineer-jobs/in-All-Sydney-NSW?page=5&salaryrange=70000-100000&salarytype=annual\n",
      "https://www.seek.com.au/data-engineer-jobs/in-All-Sydney-NSW?page=6&salaryrange=70000-100000&salarytype=annual\n",
      "https://www.seek.com.au/data-engineer-jobs/in-All-Sydney-NSW?page=7&salaryrange=70000-100000&salarytype=annual\n",
      "https://www.seek.com.au/data-engineer-jobs/in-All-Sydney-NSW?page=8&salaryrange=70000-100000&salarytype=annual\n",
      "https://www.seek.com.au/data-engineer-jobs/in-All-Sydney-NSW?page=9&salaryrange=70000-100000&salarytype=annual\n",
      "https://www.seek.com.au/data-engineer-jobs/in-All-Sydney-NSW?page=10&salaryrange=70000-100000&salarytype=annual\n",
      "https://www.seek.com.au/data-engineer-jobs/in-All-Sydney-NSW?page=11&salaryrange=70000-100000&salarytype=annual\n",
      "https://www.seek.com.au/data-engineer-jobs/in-All-Sydney-NSW?page=12&salaryrange=70000-100000&salarytype=annual\n",
      "https://www.seek.com.au/data-engineer-jobs/in-All-Sydney-NSW?page=13&salaryrange=70000-100000&salarytype=annual\n",
      "https://www.seek.com.au/data-engineer-jobs/in-All-Sydney-NSW?page=14&salaryrange=70000-100000&salarytype=annual\n",
      "https://www.seek.com.au/data-engineer-jobs/in-All-Sydney-NSW?page=15&salaryrange=70000-100000&salarytype=annual\n",
      "https://www.seek.com.au/data-engineer-jobs/in-All-Sydney-NSW?page=16&salaryrange=70000-100000&salarytype=annual\n",
      "https://www.seek.com.au/data-engineer-jobs/in-All-Sydney-NSW?page=17&salaryrange=70000-100000&salarytype=annual\n",
      "https://www.seek.com.au/data-engineer-jobs/in-All-Sydney-NSW?salaryrange=120000-200000&salarytype=annual\n",
      "<class 'str'>\n",
      "Number of jobs in this page: 615\n",
      "Number of web pages to process: 30\n",
      "https://www.seek.com.au/data-engineer-jobs/in-All-Sydney-NSW?page=1&salaryrange=120000-200000&salarytype=annual\n",
      "https://www.seek.com.au/data-engineer-jobs/in-All-Sydney-NSW?page=2&salaryrange=120000-200000&salarytype=annual\n",
      "https://www.seek.com.au/data-engineer-jobs/in-All-Sydney-NSW?page=3&salaryrange=120000-200000&salarytype=annual\n",
      "https://www.seek.com.au/data-engineer-jobs/in-All-Sydney-NSW?page=4&salaryrange=120000-200000&salarytype=annual\n",
      "https://www.seek.com.au/data-engineer-jobs/in-All-Sydney-NSW?page=5&salaryrange=120000-200000&salarytype=annual\n",
      "https://www.seek.com.au/data-engineer-jobs/in-All-Sydney-NSW?page=6&salaryrange=120000-200000&salarytype=annual\n",
      "https://www.seek.com.au/data-engineer-jobs/in-All-Sydney-NSW?page=7&salaryrange=120000-200000&salarytype=annual\n",
      "https://www.seek.com.au/data-engineer-jobs/in-All-Sydney-NSW?page=8&salaryrange=120000-200000&salarytype=annual\n",
      "https://www.seek.com.au/data-engineer-jobs/in-All-Sydney-NSW?page=9&salaryrange=120000-200000&salarytype=annual\n",
      "https://www.seek.com.au/data-engineer-jobs/in-All-Sydney-NSW?page=10&salaryrange=120000-200000&salarytype=annual\n",
      "https://www.seek.com.au/data-engineer-jobs/in-All-Sydney-NSW?page=11&salaryrange=120000-200000&salarytype=annual\n",
      "https://www.seek.com.au/data-engineer-jobs/in-All-Sydney-NSW?page=12&salaryrange=120000-200000&salarytype=annual\n",
      "https://www.seek.com.au/data-engineer-jobs/in-All-Sydney-NSW?page=13&salaryrange=120000-200000&salarytype=annual\n",
      "https://www.seek.com.au/data-engineer-jobs/in-All-Sydney-NSW?page=14&salaryrange=120000-200000&salarytype=annual\n",
      "https://www.seek.com.au/data-engineer-jobs/in-All-Sydney-NSW?page=15&salaryrange=120000-200000&salarytype=annual\n",
      "https://www.seek.com.au/data-engineer-jobs/in-All-Sydney-NSW?page=16&salaryrange=120000-200000&salarytype=annual\n",
      "https://www.seek.com.au/data-engineer-jobs/in-All-Sydney-NSW?page=17&salaryrange=120000-200000&salarytype=annual\n",
      "https://www.seek.com.au/data-engineer-jobs/in-All-Sydney-NSW?page=18&salaryrange=120000-200000&salarytype=annual\n",
      "https://www.seek.com.au/data-engineer-jobs/in-All-Sydney-NSW?page=19&salaryrange=120000-200000&salarytype=annual\n",
      "https://www.seek.com.au/data-engineer-jobs/in-All-Sydney-NSW?page=20&salaryrange=120000-200000&salarytype=annual\n",
      "https://www.seek.com.au/data-engineer-jobs/in-All-Sydney-NSW?page=21&salaryrange=120000-200000&salarytype=annual\n",
      "https://www.seek.com.au/data-engineer-jobs/in-All-Sydney-NSW?page=22&salaryrange=120000-200000&salarytype=annual\n",
      "https://www.seek.com.au/data-engineer-jobs/in-All-Sydney-NSW?page=23&salaryrange=120000-200000&salarytype=annual\n",
      "https://www.seek.com.au/data-engineer-jobs/in-All-Sydney-NSW?page=24&salaryrange=120000-200000&salarytype=annual\n",
      "https://www.seek.com.au/data-engineer-jobs/in-All-Sydney-NSW?page=25&salaryrange=120000-200000&salarytype=annual\n",
      "https://www.seek.com.au/data-engineer-jobs/in-All-Sydney-NSW?page=26&salaryrange=120000-200000&salarytype=annual\n",
      "https://www.seek.com.au/data-engineer-jobs/in-All-Sydney-NSW?page=27&salaryrange=120000-200000&salarytype=annual\n",
      "https://www.seek.com.au/data-engineer-jobs/in-All-Sydney-NSW?page=28&salaryrange=120000-200000&salarytype=annual\n",
      "https://www.seek.com.au/data-engineer-jobs/in-All-Sydney-NSW?page=29&salaryrange=120000-200000&salarytype=annual\n",
      "https://www.seek.com.au/data-engineer-jobs/in-All-Sydney-NSW?page=30&salaryrange=120000-200000&salarytype=annual\n"
     ]
    }
   ],
   "source": [
    "# This code scrapes jobs from Seek's web site, store the information in Pandas, and \n",
    "# export the data set on a csv files. The csv files are generated per each salary range \n",
    "# and location.\n",
    "for each_city in locations:\n",
    "    for each_sal in range_salary:\n",
    "        n_url = url_root+search_keywords[1]+'-jobs/in-'+each_city+'?salaryrange='+each_sal+'&salarytype=annual'\n",
    "        print(n_url)\n",
    "        driver_2 = webdriver.Chrome(executable_path=\"./chromedriver/chromedriver\",chrome_options=chrome_options)\n",
    "\n",
    "        driver_2.get(n_url)\n",
    "        out_jobs = driver_2.find_elements_by_xpath('//*[@id=\"SearchSummary\"]/span/h1/strong')[0].text\n",
    "        jobs = out_jobs.replace(',', '')\n",
    "        print(type(jobs))\n",
    "        n_jobs = int(jobs)//20\n",
    "        print(f'Number of jobs in this page: {jobs}')\n",
    "        print(f'Number of web pages to process: {n_jobs}')\n",
    "\n",
    "        list_urls_each = list_url_def(url_root,search_keywords[1],each_city,n_jobs,each_sal)\n",
    "\n",
    "        data_jobs_each = web_scrape_func(list_urls_each,search_keywords[1],each_city,each_sal)\n",
    "\n",
    "        df_jobs_each = pd.DataFrame(data_jobs_each)\n",
    "\n",
    "        str_file = 'jobs-'+each_city+'-'+each_sal+'-DE.csv'\n",
    "        df_jobs_each.to_csv(str_file,index=False)\n",
    "\n",
    "        driver_2.close()"
   ]
  },
  {
   "cell_type": "code",
   "execution_count": 11,
   "metadata": {
    "pycharm": {
     "name": "#%%\n"
    }
   },
   "outputs": [],
   "source": [
    "# After creating different csv files, this code uploads all the csv files created\n",
    "# earlier to generate a single data set.\n",
    "df1 = pd.read_csv('jobs-All-Melbourne-VIC-30000-60000.csv')\n",
    "df2 = pd.read_csv('jobs-All-Melbourne-VIC-70000-100000.csv')\n",
    "df3 = pd.read_csv('jobs-All-Melbourne-VIC-120000-200000.csv')\n",
    "df4 = pd.read_csv('jobs-All-Sydney-NSW-30000-60000.csv')\n",
    "df5 = pd.read_csv('jobs-All-Sydney-NSW-70000-100000.csv')\n",
    "df6 = pd.read_csv('jobs-All-Sydney-NSW-120000-200000.csv')\n",
    "\n",
    "df7 = pd.read_csv('jobs-All-Melbourne-VIC-30000-60000-DS.csv')\n",
    "df8 = pd.read_csv('jobs-All-Melbourne-VIC-70000-100000-DS.csv')\n",
    "df9 = pd.read_csv('jobs-All-Melbourne-VIC-120000-200000-DS.csv')\n",
    "df10 = pd.read_csv('jobs-All-Sydney-NSW-30000-60000-DS.csv')\n",
    "df11 = pd.read_csv('jobs-All-Sydney-NSW-70000-100000-DS.csv')\n",
    "df12 = pd.read_csv('jobs-All-Sydney-NSW-120000-200000-DS.csv')\n",
    "\n",
    "df13 = pd.read_csv('jobs-All-Melbourne-VIC-30000-60000-DE.csv')\n",
    "df14 = pd.read_csv('jobs-All-Melbourne-VIC-70000-100000-DE.csv')\n",
    "df15 = pd.read_csv('jobs-All-Melbourne-VIC-120000-200000-DE.csv')\n",
    "df16 = pd.read_csv('jobs-All-Sydney-NSW-30000-60000-DE.csv')\n",
    "df17 = pd.read_csv('jobs-All-Sydney-NSW-70000-100000-DE.csv')\n",
    "df18 = pd.read_csv('jobs-All-Sydney-NSW-120000-200000-DE.csv')"
   ]
  },
  {
   "cell_type": "code",
   "execution_count": 13,
   "metadata": {
    "pycharm": {
     "name": "#%%\n"
    }
   },
   "outputs": [
    {
     "name": "stdout",
     "output_type": "stream",
     "text": [
      "(280, 16) (900, 16) (680, 16) (480, 16) (1500, 16) (1600, 16)\n"
     ]
    }
   ],
   "source": [
    "print(df1.shape, df2.shape, df3.shape, df4.shape, df5.shape, df6.shape)"
   ]
  },
  {
   "cell_type": "code",
   "execution_count": 14,
   "metadata": {},
   "outputs": [
    {
     "name": "stdout",
     "output_type": "stream",
     "text": [
      "(40, 16) (160, 16) (160, 16) (60, 16) (260, 16) (300, 16)\n"
     ]
    }
   ],
   "source": [
    "print(df7.shape, df8.shape, df9.shape, df10.shape, df11.shape, df12.shape)"
   ]
  },
  {
   "cell_type": "code",
   "execution_count": 15,
   "metadata": {},
   "outputs": [
    {
     "name": "stdout",
     "output_type": "stream",
     "text": [
      "(40, 16) (220, 16) (260, 16) (60, 16) (340, 16) (600, 16)\n"
     ]
    }
   ],
   "source": [
    "print(df13.shape, df14.shape, df15.shape, df16.shape, df17.shape, df18.shape)"
   ]
  },
  {
   "cell_type": "code",
   "execution_count": 16,
   "metadata": {
    "pycharm": {
     "name": "#%%\n"
    }
   },
   "outputs": [],
   "source": [
    "frames = [df1,df2,df3,df4,df5,df6,df7,df8,df9,df10,df11,df12,df13,df14,df15,df16,df17,df18]"
   ]
  },
  {
   "cell_type": "code",
   "execution_count": 17,
   "metadata": {
    "pycharm": {
     "name": "#%%\n"
    },
    "scrolled": true
   },
   "outputs": [
    {
     "name": "stdout",
     "output_type": "stream",
     "text": [
      "(7940, 16)\n"
     ]
    },
    {
     "data": {
      "text/html": [
       "<div>\n",
       "<style scoped>\n",
       "    .dataframe tbody tr th:only-of-type {\n",
       "        vertical-align: middle;\n",
       "    }\n",
       "\n",
       "    .dataframe tbody tr th {\n",
       "        vertical-align: top;\n",
       "    }\n",
       "\n",
       "    .dataframe thead th {\n",
       "        text-align: right;\n",
       "    }\n",
       "</style>\n",
       "<table border=\"1\" class=\"dataframe\">\n",
       "  <thead>\n",
       "    <tr style=\"text-align: right;\">\n",
       "      <th></th>\n",
       "      <th>s_keyword</th>\n",
       "      <th>s_loc</th>\n",
       "      <th>range_sal</th>\n",
       "      <th>job_title</th>\n",
       "      <th>job_id</th>\n",
       "      <th>city</th>\n",
       "      <th>job_agency_url</th>\n",
       "      <th>job_agency</th>\n",
       "      <th>job_type</th>\n",
       "      <th>job_salary</th>\n",
       "      <th>job_field</th>\n",
       "      <th>job_subfield</th>\n",
       "      <th>job_des</th>\n",
       "      <th>job_url</th>\n",
       "      <th>job_date</th>\n",
       "      <th>job_full_desc</th>\n",
       "    </tr>\n",
       "  </thead>\n",
       "  <tbody>\n",
       "    <tr>\n",
       "      <th>0</th>\n",
       "      <td>data-analyst</td>\n",
       "      <td>All-Melbourne-VIC</td>\n",
       "      <td>30000-60000</td>\n",
       "      <td>Excel Data Analyst</td>\n",
       "      <td>50354487</td>\n",
       "      <td>Melbourne</td>\n",
       "      <td>https://www.seek.com.au/Natural-Selection-Grou...</td>\n",
       "      <td>Natural Selection Group</td>\n",
       "      <td>This is a Contract/Temp job</td>\n",
       "      <td>no info</td>\n",
       "      <td>Information &amp; Communication Technology</td>\n",
       "      <td>Other</td>\n",
       "      <td>Working with excel on customer quoting initiat...</td>\n",
       "      <td>https://www.seek.com.au/job/50354487?type=stan...</td>\n",
       "      <td>6 Aug 2020</td>\n",
       "      <td>Our Client has a new opportunity for a Excel D...</td>\n",
       "    </tr>\n",
       "  </tbody>\n",
       "</table>\n",
       "</div>"
      ],
      "text/plain": [
       "      s_keyword              s_loc    range_sal           job_title    job_id  \\\n",
       "0  data-analyst  All-Melbourne-VIC  30000-60000  Excel Data Analyst  50354487   \n",
       "\n",
       "        city                                     job_agency_url  \\\n",
       "0  Melbourne  https://www.seek.com.au/Natural-Selection-Grou...   \n",
       "\n",
       "                job_agency                     job_type job_salary  \\\n",
       "0  Natural Selection Group  This is a Contract/Temp job    no info   \n",
       "\n",
       "                                job_field job_subfield  \\\n",
       "0  Information & Communication Technology        Other   \n",
       "\n",
       "                                             job_des  \\\n",
       "0  Working with excel on customer quoting initiat...   \n",
       "\n",
       "                                             job_url    job_date  \\\n",
       "0  https://www.seek.com.au/job/50354487?type=stan...  6 Aug 2020   \n",
       "\n",
       "                                       job_full_desc  \n",
       "0  Our Client has a new opportunity for a Excel D...  "
      ]
     },
     "execution_count": 17,
     "metadata": {},
     "output_type": "execute_result"
    }
   ],
   "source": [
    "result_df = pd.concat(frames).reset_index()\n",
    "result_df.drop(columns='index', inplace=True)\n",
    "print(result_df.shape)\n",
    "result_df.head(1)"
   ]
  },
  {
   "cell_type": "code",
   "execution_count": 19,
   "metadata": {},
   "outputs": [],
   "source": [
    "result_df.drop_duplicates(subset='job_id',keep='first',inplace=True, ignore_index=True)"
   ]
  },
  {
   "cell_type": "code",
   "execution_count": 20,
   "metadata": {},
   "outputs": [
    {
     "data": {
      "text/plain": [
       "(5898, 16)"
      ]
     },
     "execution_count": 20,
     "metadata": {},
     "output_type": "execute_result"
    }
   ],
   "source": [
    "result_df.shape"
   ]
  },
  {
   "cell_type": "code",
   "execution_count": 21,
   "metadata": {
    "scrolled": true
   },
   "outputs": [
    {
     "data": {
      "text/html": [
       "<div>\n",
       "<style scoped>\n",
       "    .dataframe tbody tr th:only-of-type {\n",
       "        vertical-align: middle;\n",
       "    }\n",
       "\n",
       "    .dataframe tbody tr th {\n",
       "        vertical-align: top;\n",
       "    }\n",
       "\n",
       "    .dataframe thead th {\n",
       "        text-align: right;\n",
       "    }\n",
       "</style>\n",
       "<table border=\"1\" class=\"dataframe\">\n",
       "  <thead>\n",
       "    <tr style=\"text-align: right;\">\n",
       "      <th></th>\n",
       "      <th>s_keyword</th>\n",
       "      <th>s_loc</th>\n",
       "      <th>range_sal</th>\n",
       "      <th>job_title</th>\n",
       "      <th>job_id</th>\n",
       "      <th>city</th>\n",
       "      <th>job_agency_url</th>\n",
       "      <th>job_agency</th>\n",
       "      <th>job_type</th>\n",
       "      <th>job_salary</th>\n",
       "      <th>job_field</th>\n",
       "      <th>job_subfield</th>\n",
       "      <th>job_des</th>\n",
       "      <th>job_url</th>\n",
       "      <th>job_date</th>\n",
       "      <th>job_full_desc</th>\n",
       "    </tr>\n",
       "  </thead>\n",
       "  <tbody>\n",
       "    <tr>\n",
       "      <th>0</th>\n",
       "      <td>data-analyst</td>\n",
       "      <td>All-Melbourne-VIC</td>\n",
       "      <td>30000-60000</td>\n",
       "      <td>Excel Data Analyst</td>\n",
       "      <td>50354487</td>\n",
       "      <td>Melbourne</td>\n",
       "      <td>https://www.seek.com.au/Natural-Selection-Grou...</td>\n",
       "      <td>Natural Selection Group</td>\n",
       "      <td>This is a Contract/Temp job</td>\n",
       "      <td>no info</td>\n",
       "      <td>Information &amp; Communication Technology</td>\n",
       "      <td>Other</td>\n",
       "      <td>Working with excel on customer quoting initiat...</td>\n",
       "      <td>https://www.seek.com.au/job/50354487?type=stan...</td>\n",
       "      <td>6 Aug 2020</td>\n",
       "      <td>Our Client has a new opportunity for a Excel D...</td>\n",
       "    </tr>\n",
       "    <tr>\n",
       "      <th>1</th>\n",
       "      <td>data-analyst</td>\n",
       "      <td>All-Melbourne-VIC</td>\n",
       "      <td>30000-60000</td>\n",
       "      <td>Product Analytics Specialist</td>\n",
       "      <td>50392356</td>\n",
       "      <td>Melbourne</td>\n",
       "      <td>https://www.seek.com.au/Openpay-jobs</td>\n",
       "      <td>Openpay Pty Ltd</td>\n",
       "      <td>This is a Full Time job</td>\n",
       "      <td>no info</td>\n",
       "      <td>Information &amp; Communication Technology</td>\n",
       "      <td>Product Management &amp; Development</td>\n",
       "      <td>Openpay (ASX: OPY) is an omni-channel payment ...</td>\n",
       "      <td>https://www.seek.com.au/job/50392356?type=stan...</td>\n",
       "      <td>13 Aug 2020</td>\n",
       "      <td>Product Analytics Specialist\\nOpenpay (ASX: OP...</td>\n",
       "    </tr>\n",
       "    <tr>\n",
       "      <th>2</th>\n",
       "      <td>data-analyst</td>\n",
       "      <td>All-Melbourne-VIC</td>\n",
       "      <td>30000-60000</td>\n",
       "      <td>Graduate Database Developer/Analyst (permanent...</td>\n",
       "      <td>50374020</td>\n",
       "      <td>Melbourne</td>\n",
       "      <td>https://www.seek.com.au/jobs?advertiserid=3092...</td>\n",
       "      <td>MIEPOL</td>\n",
       "      <td>This is a Full Time job</td>\n",
       "      <td>no info</td>\n",
       "      <td>Information &amp; Communication Technology</td>\n",
       "      <td>Developers/Programmers</td>\n",
       "      <td>We are seeking a Graduate Database Developer/A...</td>\n",
       "      <td>https://www.seek.com.au/job/50374020?type=stan...</td>\n",
       "      <td>11 Aug 2020</td>\n",
       "      <td>We are looking for a Graduate Database Develop...</td>\n",
       "    </tr>\n",
       "    <tr>\n",
       "      <th>3</th>\n",
       "      <td>data-analyst</td>\n",
       "      <td>All-Melbourne-VIC</td>\n",
       "      <td>30000-60000</td>\n",
       "      <td>Graduate Analyst Position - Melbourne</td>\n",
       "      <td>50372185</td>\n",
       "      <td>Melbourne</td>\n",
       "      <td>https://www.seek.com.au/Proforce-jobs</td>\n",
       "      <td>Proforce</td>\n",
       "      <td>This is a Full Time job</td>\n",
       "      <td>$50,000 per annum</td>\n",
       "      <td>Sales</td>\n",
       "      <td>Analysis &amp; Reporting</td>\n",
       "      <td>Graduate inventory and sales analyst position ...</td>\n",
       "      <td>https://www.seek.com.au/job/50372185?type=stan...</td>\n",
       "      <td>10 Aug 2020</td>\n",
       "      <td>The Business\\n\\nFounded in 2014 this Australia...</td>\n",
       "    </tr>\n",
       "    <tr>\n",
       "      <th>4</th>\n",
       "      <td>data-analyst</td>\n",
       "      <td>All-Melbourne-VIC</td>\n",
       "      <td>30000-60000</td>\n",
       "      <td>Business Analyst Junior or Emerging</td>\n",
       "      <td>50384667</td>\n",
       "      <td>Melbourne</td>\n",
       "      <td>https://www.seek.com.au/Interface-Recruitment-...</td>\n",
       "      <td>Interface Recruitment</td>\n",
       "      <td>This is a Full Time job</td>\n",
       "      <td>$60 - $65 plus super great ground floor role</td>\n",
       "      <td>Information &amp; Communication Technology</td>\n",
       "      <td>Business/Systems Analysts</td>\n",
       "      <td>Want to join a medium sized Software House wit...</td>\n",
       "      <td>https://www.seek.com.au/job/50384667?type=stan...</td>\n",
       "      <td>12 Aug 2020</td>\n",
       "      <td>Business Analyst Junior or Emerging\\nInterface...</td>\n",
       "    </tr>\n",
       "  </tbody>\n",
       "</table>\n",
       "</div>"
      ],
      "text/plain": [
       "      s_keyword              s_loc    range_sal  \\\n",
       "0  data-analyst  All-Melbourne-VIC  30000-60000   \n",
       "1  data-analyst  All-Melbourne-VIC  30000-60000   \n",
       "2  data-analyst  All-Melbourne-VIC  30000-60000   \n",
       "3  data-analyst  All-Melbourne-VIC  30000-60000   \n",
       "4  data-analyst  All-Melbourne-VIC  30000-60000   \n",
       "\n",
       "                                           job_title    job_id       city  \\\n",
       "0                                 Excel Data Analyst  50354487  Melbourne   \n",
       "1                       Product Analytics Specialist  50392356  Melbourne   \n",
       "2  Graduate Database Developer/Analyst (permanent...  50374020  Melbourne   \n",
       "3              Graduate Analyst Position - Melbourne  50372185  Melbourne   \n",
       "4                Business Analyst Junior or Emerging  50384667  Melbourne   \n",
       "\n",
       "                                      job_agency_url               job_agency  \\\n",
       "0  https://www.seek.com.au/Natural-Selection-Grou...  Natural Selection Group   \n",
       "1               https://www.seek.com.au/Openpay-jobs          Openpay Pty Ltd   \n",
       "2  https://www.seek.com.au/jobs?advertiserid=3092...                   MIEPOL   \n",
       "3              https://www.seek.com.au/Proforce-jobs                 Proforce   \n",
       "4  https://www.seek.com.au/Interface-Recruitment-...    Interface Recruitment   \n",
       "\n",
       "                      job_type                                    job_salary  \\\n",
       "0  This is a Contract/Temp job                                       no info   \n",
       "1      This is a Full Time job                                       no info   \n",
       "2      This is a Full Time job                                       no info   \n",
       "3      This is a Full Time job                             $50,000 per annum   \n",
       "4      This is a Full Time job  $60 - $65 plus super great ground floor role   \n",
       "\n",
       "                                job_field                      job_subfield  \\\n",
       "0  Information & Communication Technology                             Other   \n",
       "1  Information & Communication Technology  Product Management & Development   \n",
       "2  Information & Communication Technology            Developers/Programmers   \n",
       "3                                   Sales              Analysis & Reporting   \n",
       "4  Information & Communication Technology         Business/Systems Analysts   \n",
       "\n",
       "                                             job_des  \\\n",
       "0  Working with excel on customer quoting initiat...   \n",
       "1  Openpay (ASX: OPY) is an omni-channel payment ...   \n",
       "2  We are seeking a Graduate Database Developer/A...   \n",
       "3  Graduate inventory and sales analyst position ...   \n",
       "4  Want to join a medium sized Software House wit...   \n",
       "\n",
       "                                             job_url     job_date  \\\n",
       "0  https://www.seek.com.au/job/50354487?type=stan...   6 Aug 2020   \n",
       "1  https://www.seek.com.au/job/50392356?type=stan...  13 Aug 2020   \n",
       "2  https://www.seek.com.au/job/50374020?type=stan...  11 Aug 2020   \n",
       "3  https://www.seek.com.au/job/50372185?type=stan...  10 Aug 2020   \n",
       "4  https://www.seek.com.au/job/50384667?type=stan...  12 Aug 2020   \n",
       "\n",
       "                                       job_full_desc  \n",
       "0  Our Client has a new opportunity for a Excel D...  \n",
       "1  Product Analytics Specialist\\nOpenpay (ASX: OP...  \n",
       "2  We are looking for a Graduate Database Develop...  \n",
       "3  The Business\\n\\nFounded in 2014 this Australia...  \n",
       "4  Business Analyst Junior or Emerging\\nInterface...  "
      ]
     },
     "execution_count": 21,
     "metadata": {},
     "output_type": "execute_result"
    }
   ],
   "source": [
    "result_df.head()"
   ]
  },
  {
   "cell_type": "code",
   "execution_count": 22,
   "metadata": {},
   "outputs": [
    {
     "data": {
      "text/plain": [
       "s_keyword            3\n",
       "s_loc                2\n",
       "range_sal            3\n",
       "job_title         4455\n",
       "job_id            5898\n",
       "city                 2\n",
       "job_agency_url    2228\n",
       "job_agency        2295\n",
       "job_type             4\n",
       "job_salary        1409\n",
       "job_field           29\n",
       "job_subfield       258\n",
       "job_des           5288\n",
       "job_url           5898\n",
       "job_date            70\n",
       "job_full_desc     5529\n",
       "dtype: int64"
      ]
     },
     "execution_count": 22,
     "metadata": {},
     "output_type": "execute_result"
    }
   ],
   "source": [
    "result_df.nunique()"
   ]
  },
  {
   "cell_type": "code",
   "execution_count": 23,
   "metadata": {},
   "outputs": [],
   "source": [
    "# Save scrapped information on a CSV for cleaning\n",
    "result_df.to_csv('jobs_project4v2.csv',index=False)"
   ]
  }
 ],
 "metadata": {
  "kernelspec": {
   "display_name": "Python 3",
   "language": "python",
   "name": "python3"
  },
  "language_info": {
   "codemirror_mode": {
    "name": "ipython",
    "version": 3
   },
   "file_extension": ".py",
   "mimetype": "text/x-python",
   "name": "python",
   "nbconvert_exporter": "python",
   "pygments_lexer": "ipython3",
   "version": "3.8.5"
  }
 },
 "nbformat": 4,
 "nbformat_minor": 4
}
