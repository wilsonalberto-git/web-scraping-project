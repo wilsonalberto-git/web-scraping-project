{
 "cells": [
  {
   "cell_type": "markdown",
   "metadata": {},
   "source": [
    "## Project 4 - Notebook 2 - EDA (by Wilson Alberto Torres)"
   ]
  },
  {
   "cell_type": "code",
   "execution_count": 159,
   "metadata": {},
   "outputs": [],
   "source": [
    "# Importing libraries\n",
    "import pandas as pd\n",
    "from gensim import corpora, models, matutils\n",
    "from sklearn.feature_extraction.text import CountVectorizer, TfidfVectorizer\n",
    "from collections import defaultdict\n",
    "from nltk.corpus import stopwords\n",
    "from sklearn.model_selection import train_test_split\n",
    "from sklearn.feature_extraction.text import CountVectorizer\n",
    "import seaborn as sns\n",
    "import numpy as np\n",
    "import matplotlib.pyplot as plt"
   ]
  },
  {
   "cell_type": "code",
   "execution_count": 160,
   "metadata": {},
   "outputs": [],
   "source": [
    "# Importing data set created in previous web scrapping stage\n",
    "# In this notebook, exploratory data analysis (EDA) is applied\n",
    "# and will produce two data sets ready to be used for exploring \n",
    "# machine learning modelling.\n",
    "result_df = pd.read_csv('jobs_project4v2.csv')\n",
    "result_df2 = pd.read_csv('jobs_project4v2.csv')"
   ]
  },
  {
   "cell_type": "code",
   "execution_count": 161,
   "metadata": {},
   "outputs": [
    {
     "data": {
      "text/html": [
       "<div>\n",
       "<style scoped>\n",
       "    .dataframe tbody tr th:only-of-type {\n",
       "        vertical-align: middle;\n",
       "    }\n",
       "\n",
       "    .dataframe tbody tr th {\n",
       "        vertical-align: top;\n",
       "    }\n",
       "\n",
       "    .dataframe thead th {\n",
       "        text-align: right;\n",
       "    }\n",
       "</style>\n",
       "<table border=\"1\" class=\"dataframe\">\n",
       "  <thead>\n",
       "    <tr style=\"text-align: right;\">\n",
       "      <th></th>\n",
       "      <th>s_keyword</th>\n",
       "      <th>s_loc</th>\n",
       "      <th>range_sal</th>\n",
       "      <th>job_title</th>\n",
       "      <th>job_id</th>\n",
       "      <th>city</th>\n",
       "      <th>job_agency_url</th>\n",
       "      <th>job_agency</th>\n",
       "      <th>job_type</th>\n",
       "      <th>job_salary</th>\n",
       "      <th>job_field</th>\n",
       "      <th>job_subfield</th>\n",
       "      <th>job_des</th>\n",
       "      <th>job_url</th>\n",
       "      <th>job_date</th>\n",
       "      <th>job_full_desc</th>\n",
       "    </tr>\n",
       "  </thead>\n",
       "  <tbody>\n",
       "    <tr>\n",
       "      <th>0</th>\n",
       "      <td>data-analyst</td>\n",
       "      <td>All-Melbourne-VIC</td>\n",
       "      <td>30000-60000</td>\n",
       "      <td>Excel Data Analyst</td>\n",
       "      <td>50354487</td>\n",
       "      <td>Melbourne</td>\n",
       "      <td>https://www.seek.com.au/Natural-Selection-Grou...</td>\n",
       "      <td>Natural Selection Group</td>\n",
       "      <td>This is a Contract/Temp job</td>\n",
       "      <td>no info</td>\n",
       "      <td>Information &amp; Communication Technology</td>\n",
       "      <td>Other</td>\n",
       "      <td>Working with excel on customer quoting initiat...</td>\n",
       "      <td>https://www.seek.com.au/job/50354487?type=stan...</td>\n",
       "      <td>6 Aug 2020</td>\n",
       "      <td>Our Client has a new opportunity for a Excel D...</td>\n",
       "    </tr>\n",
       "    <tr>\n",
       "      <th>1</th>\n",
       "      <td>data-analyst</td>\n",
       "      <td>All-Melbourne-VIC</td>\n",
       "      <td>30000-60000</td>\n",
       "      <td>Product Analytics Specialist</td>\n",
       "      <td>50392356</td>\n",
       "      <td>Melbourne</td>\n",
       "      <td>https://www.seek.com.au/Openpay-jobs</td>\n",
       "      <td>Openpay Pty Ltd</td>\n",
       "      <td>This is a Full Time job</td>\n",
       "      <td>no info</td>\n",
       "      <td>Information &amp; Communication Technology</td>\n",
       "      <td>Product Management &amp; Development</td>\n",
       "      <td>Openpay (ASX: OPY) is an omni-channel payment ...</td>\n",
       "      <td>https://www.seek.com.au/job/50392356?type=stan...</td>\n",
       "      <td>13 Aug 2020</td>\n",
       "      <td>Product Analytics Specialist\\nOpenpay (ASX: OP...</td>\n",
       "    </tr>\n",
       "  </tbody>\n",
       "</table>\n",
       "</div>"
      ],
      "text/plain": [
       "      s_keyword              s_loc    range_sal                     job_title  \\\n",
       "0  data-analyst  All-Melbourne-VIC  30000-60000            Excel Data Analyst   \n",
       "1  data-analyst  All-Melbourne-VIC  30000-60000  Product Analytics Specialist   \n",
       "\n",
       "     job_id       city                                     job_agency_url  \\\n",
       "0  50354487  Melbourne  https://www.seek.com.au/Natural-Selection-Grou...   \n",
       "1  50392356  Melbourne               https://www.seek.com.au/Openpay-jobs   \n",
       "\n",
       "                job_agency                     job_type job_salary  \\\n",
       "0  Natural Selection Group  This is a Contract/Temp job    no info   \n",
       "1          Openpay Pty Ltd      This is a Full Time job    no info   \n",
       "\n",
       "                                job_field                      job_subfield  \\\n",
       "0  Information & Communication Technology                             Other   \n",
       "1  Information & Communication Technology  Product Management & Development   \n",
       "\n",
       "                                             job_des  \\\n",
       "0  Working with excel on customer quoting initiat...   \n",
       "1  Openpay (ASX: OPY) is an omni-channel payment ...   \n",
       "\n",
       "                                             job_url     job_date  \\\n",
       "0  https://www.seek.com.au/job/50354487?type=stan...   6 Aug 2020   \n",
       "1  https://www.seek.com.au/job/50392356?type=stan...  13 Aug 2020   \n",
       "\n",
       "                                       job_full_desc  \n",
       "0  Our Client has a new opportunity for a Excel D...  \n",
       "1  Product Analytics Specialist\\nOpenpay (ASX: OP...  "
      ]
     },
     "execution_count": 161,
     "metadata": {},
     "output_type": "execute_result"
    }
   ],
   "source": [
    "result_df.head(2)"
   ]
  },
  {
   "cell_type": "code",
   "execution_count": 162,
   "metadata": {},
   "outputs": [
    {
     "data": {
      "text/plain": [
       "s_keyword            3\n",
       "s_loc                2\n",
       "range_sal            3\n",
       "job_title         4455\n",
       "job_id            5898\n",
       "city                 2\n",
       "job_agency_url    2228\n",
       "job_agency        2295\n",
       "job_type             4\n",
       "job_salary        1409\n",
       "job_field           29\n",
       "job_subfield       258\n",
       "job_des           5288\n",
       "job_url           5898\n",
       "job_date            70\n",
       "job_full_desc     5529\n",
       "dtype: int64"
      ]
     },
     "execution_count": 162,
     "metadata": {},
     "output_type": "execute_result"
    }
   ],
   "source": [
    "result_df.nunique()"
   ]
  },
  {
   "cell_type": "code",
   "execution_count": 163,
   "metadata": {},
   "outputs": [],
   "source": [
    "pd.set_option('display.max_colwidth',200)\n",
    "pd.set_option('display.max_rows',2000)"
   ]
  },
  {
   "cell_type": "code",
   "execution_count": 164,
   "metadata": {},
   "outputs": [],
   "source": [
    "result_df[result_df['job_salary'] != 'no info'][['job_salary']];"
   ]
  },
  {
   "cell_type": "code",
   "execution_count": 165,
   "metadata": {},
   "outputs": [
    {
     "data": {
      "text/html": [
       "<div>\n",
       "<style scoped>\n",
       "    .dataframe tbody tr th:only-of-type {\n",
       "        vertical-align: middle;\n",
       "    }\n",
       "\n",
       "    .dataframe tbody tr th {\n",
       "        vertical-align: top;\n",
       "    }\n",
       "\n",
       "    .dataframe thead th {\n",
       "        text-align: right;\n",
       "    }\n",
       "</style>\n",
       "<table border=\"1\" class=\"dataframe\">\n",
       "  <thead>\n",
       "    <tr style=\"text-align: right;\">\n",
       "      <th></th>\n",
       "      <th>s_keyword</th>\n",
       "      <th>s_loc</th>\n",
       "      <th>range_sal</th>\n",
       "      <th>job_title</th>\n",
       "      <th>job_id</th>\n",
       "      <th>city</th>\n",
       "      <th>job_agency_url</th>\n",
       "      <th>job_agency</th>\n",
       "      <th>job_type</th>\n",
       "      <th>job_salary</th>\n",
       "      <th>job_field</th>\n",
       "      <th>job_subfield</th>\n",
       "      <th>job_des</th>\n",
       "      <th>job_url</th>\n",
       "      <th>job_date</th>\n",
       "      <th>job_full_desc</th>\n",
       "    </tr>\n",
       "  </thead>\n",
       "  <tbody>\n",
       "    <tr>\n",
       "      <th>2468</th>\n",
       "      <td>data-analyst</td>\n",
       "      <td>All-Sydney-NSW</td>\n",
       "      <td>70000-100000</td>\n",
       "      <td>Financial Analyst</td>\n",
       "      <td>50276217</td>\n",
       "      <td>Sydney</td>\n",
       "      <td>https://www.seek.com.au/Robert-Walters-jobs</td>\n",
       "      <td>Robert Walters</td>\n",
       "      <td>This is a Full Time job</td>\n",
       "      <td>$97,000k - $107,500k p.a. + + super</td>\n",
       "      <td>Accounting</td>\n",
       "      <td>Analysis &amp; Reporting</td>\n",
       "      <td>Opportunity to advance your career, this role will provide an interface between the business operations and the central Finance team.</td>\n",
       "      <td>https://www.seek.com.au/job/50276217?type=standard#searchRequestToken=8ca2a69c-99c9-4da1-b3b2-41beb21f9c36</td>\n",
       "      <td>22 Jul 2020</td>\n",
       "      <td>Financial Analyst\\nThis role will provide an interface between the business operations and the central Finance team and other interested parties, including Treasury, and will provide relevant fina...</td>\n",
       "    </tr>\n",
       "  </tbody>\n",
       "</table>\n",
       "</div>"
      ],
      "text/plain": [
       "         s_keyword           s_loc     range_sal          job_title    job_id  \\\n",
       "2468  data-analyst  All-Sydney-NSW  70000-100000  Financial Analyst  50276217   \n",
       "\n",
       "        city                               job_agency_url      job_agency  \\\n",
       "2468  Sydney  https://www.seek.com.au/Robert-Walters-jobs  Robert Walters   \n",
       "\n",
       "                     job_type                           job_salary  \\\n",
       "2468  This is a Full Time job  $97,000k - $107,500k p.a. + + super   \n",
       "\n",
       "       job_field          job_subfield  \\\n",
       "2468  Accounting  Analysis & Reporting   \n",
       "\n",
       "                                                                                                                                    job_des  \\\n",
       "2468  Opportunity to advance your career, this role will provide an interface between the business operations and the central Finance team.   \n",
       "\n",
       "                                                                                                         job_url  \\\n",
       "2468  https://www.seek.com.au/job/50276217?type=standard#searchRequestToken=8ca2a69c-99c9-4da1-b3b2-41beb21f9c36   \n",
       "\n",
       "         job_date  \\\n",
       "2468  22 Jul 2020   \n",
       "\n",
       "                                                                                                                                                                                                job_full_desc  \n",
       "2468  Financial Analyst\\nThis role will provide an interface between the business operations and the central Finance team and other interested parties, including Treasury, and will provide relevant fina...  "
      ]
     },
     "execution_count": 165,
     "metadata": {},
     "output_type": "execute_result"
    }
   ],
   "source": [
    "# Filter by Job_id\n",
    "result_df[result_df.job_id == 50276217]"
   ]
  },
  {
   "cell_type": "code",
   "execution_count": 166,
   "metadata": {
    "scrolled": true
   },
   "outputs": [
    {
     "data": {
      "text/html": [
       "<div>\n",
       "<style scoped>\n",
       "    .dataframe tbody tr th:only-of-type {\n",
       "        vertical-align: middle;\n",
       "    }\n",
       "\n",
       "    .dataframe tbody tr th {\n",
       "        vertical-align: top;\n",
       "    }\n",
       "\n",
       "    .dataframe thead th {\n",
       "        text-align: right;\n",
       "    }\n",
       "</style>\n",
       "<table border=\"1\" class=\"dataframe\">\n",
       "  <thead>\n",
       "    <tr style=\"text-align: right;\">\n",
       "      <th></th>\n",
       "      <th>s_keyword</th>\n",
       "      <th>s_loc</th>\n",
       "      <th>range_sal</th>\n",
       "      <th>job_title</th>\n",
       "      <th>job_id</th>\n",
       "      <th>city</th>\n",
       "      <th>job_agency_url</th>\n",
       "      <th>job_agency</th>\n",
       "      <th>job_type</th>\n",
       "      <th>job_salary</th>\n",
       "      <th>job_field</th>\n",
       "      <th>job_subfield</th>\n",
       "      <th>job_des</th>\n",
       "      <th>job_url</th>\n",
       "      <th>job_date</th>\n",
       "      <th>job_full_desc</th>\n",
       "    </tr>\n",
       "  </thead>\n",
       "  <tbody>\n",
       "    <tr>\n",
       "      <th>2227</th>\n",
       "      <td>data-analyst</td>\n",
       "      <td>All-Sydney-NSW</td>\n",
       "      <td>70000-100000</td>\n",
       "      <td>Reporting Analyst / VBA Specialist: $125k Package + Parking</td>\n",
       "      <td>50350376</td>\n",
       "      <td>Sydney</td>\n",
       "      <td>https://www.seek.com.au/Reo-Group-jobs</td>\n",
       "      <td>Reo Group</td>\n",
       "      <td>This is a Full Time job</td>\n",
       "      <td>$125 k pack + 5 weeks annual leave</td>\n",
       "      <td>Accounting</td>\n",
       "      <td>Analysis &amp; Reporting</td>\n",
       "      <td>Join a Multi-billion dollar household brand to lead the development and automation of dashboard reporting. Additional benefits + view to permanent.</td>\n",
       "      <td>https://www.seek.com.au/job/50350376?type=standout#searchRequestToken=298c5961-9be3-4cc8-b1ff-c38ed7e4abe7</td>\n",
       "      <td>5 Aug 2020</td>\n",
       "      <td>Reporting Analyst / VBA Specialist: $125k Package + Parking\\nLocation: Western Sydney\\nSalary: $120 - 125k Package + Benefits + Parking\\nRole Benefits: be part of a large and growing organisation ...</td>\n",
       "    </tr>\n",
       "  </tbody>\n",
       "</table>\n",
       "</div>"
      ],
      "text/plain": [
       "         s_keyword           s_loc     range_sal  \\\n",
       "2227  data-analyst  All-Sydney-NSW  70000-100000   \n",
       "\n",
       "                                                        job_title    job_id  \\\n",
       "2227  Reporting Analyst / VBA Specialist: $125k Package + Parking  50350376   \n",
       "\n",
       "        city                          job_agency_url job_agency  \\\n",
       "2227  Sydney  https://www.seek.com.au/Reo-Group-jobs  Reo Group   \n",
       "\n",
       "                     job_type                          job_salary   job_field  \\\n",
       "2227  This is a Full Time job  $125 k pack + 5 weeks annual leave  Accounting   \n",
       "\n",
       "              job_subfield  \\\n",
       "2227  Analysis & Reporting   \n",
       "\n",
       "                                                                                                                                                  job_des  \\\n",
       "2227  Join a Multi-billion dollar household brand to lead the development and automation of dashboard reporting. Additional benefits + view to permanent.   \n",
       "\n",
       "                                                                                                         job_url  \\\n",
       "2227  https://www.seek.com.au/job/50350376?type=standout#searchRequestToken=298c5961-9be3-4cc8-b1ff-c38ed7e4abe7   \n",
       "\n",
       "        job_date  \\\n",
       "2227  5 Aug 2020   \n",
       "\n",
       "                                                                                                                                                                                                job_full_desc  \n",
       "2227  Reporting Analyst / VBA Specialist: $125k Package + Parking\\nLocation: Western Sydney\\nSalary: $120 - 125k Package + Benefits + Parking\\nRole Benefits: be part of a large and growing organisation ...  "
      ]
     },
     "execution_count": 166,
     "metadata": {},
     "output_type": "execute_result"
    }
   ],
   "source": [
    "# Filter by Index\n",
    "result_df[result_df.index == 2227]"
   ]
  },
  {
   "cell_type": "code",
   "execution_count": 167,
   "metadata": {},
   "outputs": [
    {
     "data": {
      "text/plain": [
       "(5898, 16)"
      ]
     },
     "execution_count": 167,
     "metadata": {},
     "output_type": "execute_result"
    }
   ],
   "source": [
    "#pd.set_option('display.max_colwidth',50)\n",
    "result_df.shape"
   ]
  },
  {
   "cell_type": "markdown",
   "metadata": {},
   "source": [
    "## Cleaning Salary Column"
   ]
  },
  {
   "cell_type": "code",
   "execution_count": 168,
   "metadata": {},
   "outputs": [
    {
     "name": "stdout",
     "output_type": "stream",
     "text": [
      "(1945, 1)\n"
     ]
    }
   ],
   "source": [
    "temp = result_df[result_df['job_salary'] != 'no info'][['job_salary']]\n",
    "print(temp.shape)"
   ]
  },
  {
   "cell_type": "code",
   "execution_count": 169,
   "metadata": {},
   "outputs": [],
   "source": [
    "temp;"
   ]
  },
  {
   "cell_type": "code",
   "execution_count": 170,
   "metadata": {},
   "outputs": [],
   "source": [
    "tmp = temp['job_salary'].replace(to_replace=r'[\\$a-jl-zA-JL-Z\\'\\:\\|\\`\\,\\@\\/\\(\\)\\!\\+\\&\\s]', value='', regex=True);\n",
    "#tmp = temp['job_salary'].replace(to_replace=r'(\\d+,\\d+)|(\\d+[kK])', value='', regex=True)\n",
    "#re.findall(r\"(\\d+,\\d+)|(\\d+[kK])\",temp['job_salary'])\n",
    "tmp;\n",
    "\n",
    "#'\\d to \\d'\n",
    "#(\\d+)"
   ]
  },
  {
   "cell_type": "code",
   "execution_count": 171,
   "metadata": {},
   "outputs": [],
   "source": [
    "#temp['job_salary'].str.extractall('(\\d+)').unstack();"
   ]
  },
  {
   "cell_type": "code",
   "execution_count": 172,
   "metadata": {},
   "outputs": [],
   "source": [
    "#temp['job_salary'].replace(to_replace='\\,', value='', regex=True).str.extractall('(\\d+)k').unstack();"
   ]
  },
  {
   "cell_type": "code",
   "execution_count": 173,
   "metadata": {},
   "outputs": [],
   "source": [
    "temp['job_salary'] = temp['job_salary'].str.replace(' k',',000')\n",
    "temp['job_salary'] = temp['job_salary'].str.replace(' K',',000')\n",
    "temp['job_salary'] = temp['job_salary'].str.replace('k',',000')\n",
    "temp['job_salary'] = temp['job_salary'].str.replace('K',',000')"
   ]
  },
  {
   "cell_type": "code",
   "execution_count": null,
   "metadata": {},
   "outputs": [],
   "source": [
    "temp1 = temp['job_salary'].replace(to_replace='\\,', value='', regex=True).str.extractall('(\\d{5,})').unstack()\n",
    "temp1"
   ]
  },
  {
   "cell_type": "code",
   "execution_count": 175,
   "metadata": {},
   "outputs": [
    {
     "data": {
      "text/plain": [
       "(1026, 4)"
      ]
     },
     "execution_count": 175,
     "metadata": {},
     "output_type": "execute_result"
    }
   ],
   "source": [
    "temp1.shape"
   ]
  },
  {
   "cell_type": "code",
   "execution_count": 176,
   "metadata": {
    "scrolled": true
   },
   "outputs": [
    {
     "data": {
      "text/html": [
       "<div>\n",
       "<style scoped>\n",
       "    .dataframe tbody tr th:only-of-type {\n",
       "        vertical-align: middle;\n",
       "    }\n",
       "\n",
       "    .dataframe tbody tr th {\n",
       "        vertical-align: top;\n",
       "    }\n",
       "\n",
       "    .dataframe thead th {\n",
       "        text-align: right;\n",
       "    }\n",
       "</style>\n",
       "<table border=\"1\" class=\"dataframe\">\n",
       "  <thead>\n",
       "    <tr style=\"text-align: right;\">\n",
       "      <th></th>\n",
       "      <th>s_keyword</th>\n",
       "      <th>s_loc</th>\n",
       "      <th>range_sal</th>\n",
       "      <th>job_title</th>\n",
       "      <th>job_id</th>\n",
       "      <th>city</th>\n",
       "      <th>job_agency_url</th>\n",
       "      <th>job_agency</th>\n",
       "      <th>job_type</th>\n",
       "      <th>job_salary</th>\n",
       "      <th>job_field</th>\n",
       "      <th>job_subfield</th>\n",
       "      <th>job_des</th>\n",
       "      <th>job_url</th>\n",
       "      <th>job_date</th>\n",
       "      <th>job_full_desc</th>\n",
       "      <th>cleanedsalary</th>\n",
       "    </tr>\n",
       "  </thead>\n",
       "  <tbody>\n",
       "    <tr>\n",
       "      <th>0</th>\n",
       "      <td>data-analyst</td>\n",
       "      <td>All-Melbourne-VIC</td>\n",
       "      <td>30000-60000</td>\n",
       "      <td>Excel Data Analyst</td>\n",
       "      <td>50354487</td>\n",
       "      <td>Melbourne</td>\n",
       "      <td>https://www.seek.com.au/Natural-Selection-Group-jobs</td>\n",
       "      <td>Natural Selection Group</td>\n",
       "      <td>This is a Contract/Temp job</td>\n",
       "      <td>no info</td>\n",
       "      <td>Information &amp; Communication Technology</td>\n",
       "      <td>Other</td>\n",
       "      <td>Working with excel on customer quoting initiatives</td>\n",
       "      <td>https://www.seek.com.au/job/50354487?type=standout#searchRequestToken=3d01f78b-c5b9-4fcf-a895-d098a1fcf68f</td>\n",
       "      <td>6 Aug 2020</td>\n",
       "      <td>Our Client has a new opportunity for a Excel Data Analyst for a period of 5 weeks. The role will be working remotely with a laptop supplied. This role will be responsible for capturing &amp; accuratel...</td>\n",
       "      <td>NaN</td>\n",
       "    </tr>\n",
       "    <tr>\n",
       "      <th>1</th>\n",
       "      <td>data-analyst</td>\n",
       "      <td>All-Melbourne-VIC</td>\n",
       "      <td>30000-60000</td>\n",
       "      <td>Product Analytics Specialist</td>\n",
       "      <td>50392356</td>\n",
       "      <td>Melbourne</td>\n",
       "      <td>https://www.seek.com.au/Openpay-jobs</td>\n",
       "      <td>Openpay Pty Ltd</td>\n",
       "      <td>This is a Full Time job</td>\n",
       "      <td>no info</td>\n",
       "      <td>Information &amp; Communication Technology</td>\n",
       "      <td>Product Management &amp; Development</td>\n",
       "      <td>Openpay (ASX: OPY) is an omni-channel payment solution that provides customers with flexible, interest-free payment plans.</td>\n",
       "      <td>https://www.seek.com.au/job/50392356?type=standard#searchRequestToken=3d01f78b-c5b9-4fcf-a895-d098a1fcf68f</td>\n",
       "      <td>13 Aug 2020</td>\n",
       "      <td>Product Analytics Specialist\\nOpenpay (ASX: OPY) is an omni-channel payment solution that provides customers with flexible, interest-free payment plans, in-store, online and through the Openpay Ap...</td>\n",
       "      <td>NaN</td>\n",
       "    </tr>\n",
       "    <tr>\n",
       "      <th>2</th>\n",
       "      <td>data-analyst</td>\n",
       "      <td>All-Melbourne-VIC</td>\n",
       "      <td>30000-60000</td>\n",
       "      <td>Graduate Database Developer/Analyst (permanent, Melb Metro)</td>\n",
       "      <td>50374020</td>\n",
       "      <td>Melbourne</td>\n",
       "      <td>https://www.seek.com.au/jobs?advertiserid=30926157</td>\n",
       "      <td>MIEPOL</td>\n",
       "      <td>This is a Full Time job</td>\n",
       "      <td>no info</td>\n",
       "      <td>Information &amp; Communication Technology</td>\n",
       "      <td>Developers/Programmers</td>\n",
       "      <td>We are seeking a Graduate Database Developer/Analyst with the ability to develop SQL code/queries and use reporting tools &amp; understanding of Powerbi</td>\n",
       "      <td>https://www.seek.com.au/job/50374020?type=standard#searchRequestToken=3d01f78b-c5b9-4fcf-a895-d098a1fcf68f</td>\n",
       "      <td>11 Aug 2020</td>\n",
       "      <td>We are looking for a Graduate Database Developer/Analyst for our West Footscray head office. You will have the ability with developing SQL code/queries and reporting tools, understanding of Powerb...</td>\n",
       "      <td>NaN</td>\n",
       "    </tr>\n",
       "    <tr>\n",
       "      <th>3</th>\n",
       "      <td>data-analyst</td>\n",
       "      <td>All-Melbourne-VIC</td>\n",
       "      <td>30000-60000</td>\n",
       "      <td>Graduate Analyst Position - Melbourne</td>\n",
       "      <td>50372185</td>\n",
       "      <td>Melbourne</td>\n",
       "      <td>https://www.seek.com.au/Proforce-jobs</td>\n",
       "      <td>Proforce</td>\n",
       "      <td>This is a Full Time job</td>\n",
       "      <td>$50,000 per annum</td>\n",
       "      <td>Sales</td>\n",
       "      <td>Analysis &amp; Reporting</td>\n",
       "      <td>Graduate inventory and sales analyst position with a focus on forecasting and analysis. Great opportunity to join this Melbourne based business.</td>\n",
       "      <td>https://www.seek.com.au/job/50372185?type=standout#searchRequestToken=3d01f78b-c5b9-4fcf-a895-d098a1fcf68f</td>\n",
       "      <td>10 Aug 2020</td>\n",
       "      <td>The Business\\n\\nFounded in 2014 this Australian owned company has become Australia’s fastest growing home appliance wholesaler/distributor, servicing a number of Australia’s largest retailers and ...</td>\n",
       "      <td>50000</td>\n",
       "    </tr>\n",
       "    <tr>\n",
       "      <th>4</th>\n",
       "      <td>data-analyst</td>\n",
       "      <td>All-Melbourne-VIC</td>\n",
       "      <td>30000-60000</td>\n",
       "      <td>Business Analyst Junior or Emerging</td>\n",
       "      <td>50384667</td>\n",
       "      <td>Melbourne</td>\n",
       "      <td>https://www.seek.com.au/Interface-Recruitment-jobs</td>\n",
       "      <td>Interface Recruitment</td>\n",
       "      <td>This is a Full Time job</td>\n",
       "      <td>$60 - $65 plus super great ground floor role</td>\n",
       "      <td>Information &amp; Communication Technology</td>\n",
       "      <td>Business/Systems Analysts</td>\n",
       "      <td>Want to join a medium sized Software House with friendly people and a great culture? Be a part of exceptional growth around a niche Product into Govt.</td>\n",
       "      <td>https://www.seek.com.au/job/50384667?type=standard#searchRequestToken=3d01f78b-c5b9-4fcf-a895-d098a1fcf68f</td>\n",
       "      <td>12 Aug 2020</td>\n",
       "      <td>Business Analyst Junior or Emerging\\nInterface Recruitment is a full service, Melbourne based specialist recruitment agency and Microsoft Partner. We specialise in contract and permanent placement...</td>\n",
       "      <td>NaN</td>\n",
       "    </tr>\n",
       "  </tbody>\n",
       "</table>\n",
       "</div>"
      ],
      "text/plain": [
       "      s_keyword              s_loc    range_sal  \\\n",
       "0  data-analyst  All-Melbourne-VIC  30000-60000   \n",
       "1  data-analyst  All-Melbourne-VIC  30000-60000   \n",
       "2  data-analyst  All-Melbourne-VIC  30000-60000   \n",
       "3  data-analyst  All-Melbourne-VIC  30000-60000   \n",
       "4  data-analyst  All-Melbourne-VIC  30000-60000   \n",
       "\n",
       "                                                     job_title    job_id  \\\n",
       "0                                           Excel Data Analyst  50354487   \n",
       "1                                 Product Analytics Specialist  50392356   \n",
       "2  Graduate Database Developer/Analyst (permanent, Melb Metro)  50374020   \n",
       "3                        Graduate Analyst Position - Melbourne  50372185   \n",
       "4                          Business Analyst Junior or Emerging  50384667   \n",
       "\n",
       "        city                                        job_agency_url  \\\n",
       "0  Melbourne  https://www.seek.com.au/Natural-Selection-Group-jobs   \n",
       "1  Melbourne                  https://www.seek.com.au/Openpay-jobs   \n",
       "2  Melbourne    https://www.seek.com.au/jobs?advertiserid=30926157   \n",
       "3  Melbourne                 https://www.seek.com.au/Proforce-jobs   \n",
       "4  Melbourne    https://www.seek.com.au/Interface-Recruitment-jobs   \n",
       "\n",
       "                job_agency                     job_type  \\\n",
       "0  Natural Selection Group  This is a Contract/Temp job   \n",
       "1          Openpay Pty Ltd      This is a Full Time job   \n",
       "2                   MIEPOL      This is a Full Time job   \n",
       "3                 Proforce      This is a Full Time job   \n",
       "4    Interface Recruitment      This is a Full Time job   \n",
       "\n",
       "                                     job_salary  \\\n",
       "0                                       no info   \n",
       "1                                       no info   \n",
       "2                                       no info   \n",
       "3                             $50,000 per annum   \n",
       "4  $60 - $65 plus super great ground floor role   \n",
       "\n",
       "                                job_field                      job_subfield  \\\n",
       "0  Information & Communication Technology                             Other   \n",
       "1  Information & Communication Technology  Product Management & Development   \n",
       "2  Information & Communication Technology            Developers/Programmers   \n",
       "3                                   Sales              Analysis & Reporting   \n",
       "4  Information & Communication Technology         Business/Systems Analysts   \n",
       "\n",
       "                                                                                                                                                  job_des  \\\n",
       "0                                                                                                      Working with excel on customer quoting initiatives   \n",
       "1                              Openpay (ASX: OPY) is an omni-channel payment solution that provides customers with flexible, interest-free payment plans.   \n",
       "2    We are seeking a Graduate Database Developer/Analyst with the ability to develop SQL code/queries and use reporting tools & understanding of Powerbi   \n",
       "3        Graduate inventory and sales analyst position with a focus on forecasting and analysis. Great opportunity to join this Melbourne based business.   \n",
       "4  Want to join a medium sized Software House with friendly people and a great culture? Be a part of exceptional growth around a niche Product into Govt.   \n",
       "\n",
       "                                                                                                      job_url  \\\n",
       "0  https://www.seek.com.au/job/50354487?type=standout#searchRequestToken=3d01f78b-c5b9-4fcf-a895-d098a1fcf68f   \n",
       "1  https://www.seek.com.au/job/50392356?type=standard#searchRequestToken=3d01f78b-c5b9-4fcf-a895-d098a1fcf68f   \n",
       "2  https://www.seek.com.au/job/50374020?type=standard#searchRequestToken=3d01f78b-c5b9-4fcf-a895-d098a1fcf68f   \n",
       "3  https://www.seek.com.au/job/50372185?type=standout#searchRequestToken=3d01f78b-c5b9-4fcf-a895-d098a1fcf68f   \n",
       "4  https://www.seek.com.au/job/50384667?type=standard#searchRequestToken=3d01f78b-c5b9-4fcf-a895-d098a1fcf68f   \n",
       "\n",
       "      job_date  \\\n",
       "0   6 Aug 2020   \n",
       "1  13 Aug 2020   \n",
       "2  11 Aug 2020   \n",
       "3  10 Aug 2020   \n",
       "4  12 Aug 2020   \n",
       "\n",
       "                                                                                                                                                                                             job_full_desc  \\\n",
       "0  Our Client has a new opportunity for a Excel Data Analyst for a period of 5 weeks. The role will be working remotely with a laptop supplied. This role will be responsible for capturing & accuratel...   \n",
       "1  Product Analytics Specialist\\nOpenpay (ASX: OPY) is an omni-channel payment solution that provides customers with flexible, interest-free payment plans, in-store, online and through the Openpay Ap...   \n",
       "2  We are looking for a Graduate Database Developer/Analyst for our West Footscray head office. You will have the ability with developing SQL code/queries and reporting tools, understanding of Powerb...   \n",
       "3  The Business\\n\\nFounded in 2014 this Australian owned company has become Australia’s fastest growing home appliance wholesaler/distributor, servicing a number of Australia’s largest retailers and ...   \n",
       "4  Business Analyst Junior or Emerging\\nInterface Recruitment is a full service, Melbourne based specialist recruitment agency and Microsoft Partner. We specialise in contract and permanent placement...   \n",
       "\n",
       "  cleanedsalary  \n",
       "0           NaN  \n",
       "1           NaN  \n",
       "2           NaN  \n",
       "3         50000  \n",
       "4           NaN  "
      ]
     },
     "execution_count": 176,
     "metadata": {},
     "output_type": "execute_result"
    }
   ],
   "source": [
    "result_df2.loc[temp1.index,'cleanedsalary'] = temp1[0][0]\n",
    "result_df2.head(5)"
   ]
  },
  {
   "cell_type": "code",
   "execution_count": 177,
   "metadata": {},
   "outputs": [],
   "source": [
    "#Cleaning inconsistent salary value\n",
    "result_df2['cleanedsalary'] = result_df2['cleanedsalary'].str.replace('150000000','150000')\n",
    "result_df2['cleanedsalary'] = result_df2['cleanedsalary'].str.replace('97000000','97000')"
   ]
  },
  {
   "cell_type": "code",
   "execution_count": 178,
   "metadata": {},
   "outputs": [],
   "source": [
    "result_df3 = result_df2[['job_id','s_keyword','job_title','city','job_type','job_field','job_subfield','range_sal','cleanedsalary','job_full_desc']]\n",
    "\n",
    "result_df4 = result_df2[['job_id','s_keyword','job_title','city','job_type','job_field','job_subfield','range_sal','cleanedsalary','job_full_desc']]"
   ]
  },
  {
   "cell_type": "code",
   "execution_count": 179,
   "metadata": {},
   "outputs": [],
   "source": [
    "result_df3.head(1);"
   ]
  },
  {
   "cell_type": "code",
   "execution_count": 181,
   "metadata": {},
   "outputs": [
    {
     "data": {
      "text/plain": [
       "((5898, 10), (5898, 10))"
      ]
     },
     "execution_count": 181,
     "metadata": {},
     "output_type": "execute_result"
    }
   ],
   "source": [
    "result_df3.shape, result_df4.shape"
   ]
  },
  {
   "cell_type": "code",
   "execution_count": 182,
   "metadata": {},
   "outputs": [
    {
     "data": {
      "text/plain": [
       "True     4872\n",
       "False    1026\n",
       "Name: cleanedsalary, dtype: int64"
      ]
     },
     "execution_count": 182,
     "metadata": {},
     "output_type": "execute_result"
    }
   ],
   "source": [
    "result_df3['cleanedsalary'].isnull().value_counts()"
   ]
  },
  {
   "cell_type": "code",
   "execution_count": 183,
   "metadata": {},
   "outputs": [
    {
     "data": {
      "text/plain": [
       "job_id              0\n",
       "s_keyword           0\n",
       "job_title           0\n",
       "city                0\n",
       "job_type            0\n",
       "job_field           0\n",
       "job_subfield        0\n",
       "range_sal           0\n",
       "cleanedsalary    4872\n",
       "job_full_desc       0\n",
       "dtype: int64"
      ]
     },
     "execution_count": 183,
     "metadata": {},
     "output_type": "execute_result"
    }
   ],
   "source": [
    "result_df3.isnull().sum()"
   ]
  },
  {
   "cell_type": "code",
   "execution_count": 184,
   "metadata": {},
   "outputs": [
    {
     "data": {
      "text/plain": [
       "array(['data-analyst', 'data-science', 'data-engineer'], dtype=object)"
      ]
     },
     "execution_count": 184,
     "metadata": {},
     "output_type": "execute_result"
    }
   ],
   "source": [
    "result_df3['s_keyword'].unique()"
   ]
  },
  {
   "cell_type": "code",
   "execution_count": 185,
   "metadata": {},
   "outputs": [
    {
     "data": {
      "text/html": [
       "<div>\n",
       "<style scoped>\n",
       "    .dataframe tbody tr th:only-of-type {\n",
       "        vertical-align: middle;\n",
       "    }\n",
       "\n",
       "    .dataframe tbody tr th {\n",
       "        vertical-align: top;\n",
       "    }\n",
       "\n",
       "    .dataframe thead th {\n",
       "        text-align: right;\n",
       "    }\n",
       "</style>\n",
       "<table border=\"1\" class=\"dataframe\">\n",
       "  <thead>\n",
       "    <tr style=\"text-align: right;\">\n",
       "      <th></th>\n",
       "      <th>job_id</th>\n",
       "    </tr>\n",
       "    <tr>\n",
       "      <th>s_keyword</th>\n",
       "      <th></th>\n",
       "    </tr>\n",
       "  </thead>\n",
       "  <tbody>\n",
       "    <tr>\n",
       "      <th>data-analyst</th>\n",
       "      <td>4922</td>\n",
       "    </tr>\n",
       "    <tr>\n",
       "      <th>data-engineer</th>\n",
       "      <td>588</td>\n",
       "    </tr>\n",
       "    <tr>\n",
       "      <th>data-science</th>\n",
       "      <td>388</td>\n",
       "    </tr>\n",
       "  </tbody>\n",
       "</table>\n",
       "</div>"
      ],
      "text/plain": [
       "               job_id\n",
       "s_keyword            \n",
       "data-analyst     4922\n",
       "data-engineer     588\n",
       "data-science      388"
      ]
     },
     "execution_count": 185,
     "metadata": {},
     "output_type": "execute_result"
    }
   ],
   "source": [
    "result_df3.groupby(['s_keyword'])[['job_id']].count()"
   ]
  },
  {
   "cell_type": "code",
   "execution_count": 186,
   "metadata": {},
   "outputs": [
    {
     "name": "stderr",
     "output_type": "stream",
     "text": [
      "<ipython-input-186-454104fcd661>:2: SettingWithCopyWarning: \n",
      "A value is trying to be set on a copy of a slice from a DataFrame\n",
      "\n",
      "See the caveats in the documentation: https://pandas.pydata.org/pandas-docs/stable/user_guide/indexing.html#returning-a-view-versus-a-copy\n",
      "  result_df3.dropna(inplace=True)\n"
     ]
    }
   ],
   "source": [
    "# Dropping rows with NaNs\n",
    "result_df3.dropna(inplace=True)\n",
    "result_df3.head(1);"
   ]
  },
  {
   "cell_type": "code",
   "execution_count": 187,
   "metadata": {},
   "outputs": [
    {
     "data": {
      "text/plain": [
       "(1026, 10)"
      ]
     },
     "execution_count": 187,
     "metadata": {},
     "output_type": "execute_result"
    }
   ],
   "source": [
    "result_df3.shape"
   ]
  },
  {
   "cell_type": "code",
   "execution_count": 188,
   "metadata": {},
   "outputs": [
    {
     "data": {
      "text/html": [
       "<div>\n",
       "<style scoped>\n",
       "    .dataframe tbody tr th:only-of-type {\n",
       "        vertical-align: middle;\n",
       "    }\n",
       "\n",
       "    .dataframe tbody tr th {\n",
       "        vertical-align: top;\n",
       "    }\n",
       "\n",
       "    .dataframe thead th {\n",
       "        text-align: right;\n",
       "    }\n",
       "</style>\n",
       "<table border=\"1\" class=\"dataframe\">\n",
       "  <thead>\n",
       "    <tr style=\"text-align: right;\">\n",
       "      <th></th>\n",
       "      <th>job_id</th>\n",
       "      <th>s_keyword</th>\n",
       "      <th>job_title</th>\n",
       "      <th>city</th>\n",
       "      <th>job_type</th>\n",
       "      <th>job_field</th>\n",
       "      <th>job_subfield</th>\n",
       "      <th>range_sal</th>\n",
       "      <th>cleanedsalary</th>\n",
       "      <th>job_full_desc</th>\n",
       "    </tr>\n",
       "  </thead>\n",
       "  <tbody>\n",
       "    <tr>\n",
       "      <th>4287</th>\n",
       "      <td>50343084</td>\n",
       "      <td>data-analyst</td>\n",
       "      <td>Company Secretary, Data Privacy and Compliance Manager</td>\n",
       "      <td>Sydney</td>\n",
       "      <td>This is a Full Time job</td>\n",
       "      <td>Legal</td>\n",
       "      <td>Generalists - In-house</td>\n",
       "      <td>120000-200000</td>\n",
       "      <td>0414571736</td>\n",
       "      <td>We have been briefed exclusively to partner with Danone, One Planet. One Health to source a suitably qualified Company Secretary, Data Privacy Officer and Compliance Manager due to the imminent mo...</td>\n",
       "    </tr>\n",
       "  </tbody>\n",
       "</table>\n",
       "</div>"
      ],
      "text/plain": [
       "        job_id     s_keyword  \\\n",
       "4287  50343084  data-analyst   \n",
       "\n",
       "                                                   job_title    city  \\\n",
       "4287  Company Secretary, Data Privacy and Compliance Manager  Sydney   \n",
       "\n",
       "                     job_type job_field            job_subfield  \\\n",
       "4287  This is a Full Time job     Legal  Generalists - In-house   \n",
       "\n",
       "          range_sal cleanedsalary  \\\n",
       "4287  120000-200000    0414571736   \n",
       "\n",
       "                                                                                                                                                                                                job_full_desc  \n",
       "4287  We have been briefed exclusively to partner with Danone, One Planet. One Health to source a suitably qualified Company Secretary, Data Privacy Officer and Compliance Manager due to the imminent mo...  "
      ]
     },
     "execution_count": 188,
     "metadata": {},
     "output_type": "execute_result"
    }
   ],
   "source": [
    "result_df3[result_df3['cleanedsalary'] == '0414571736']"
   ]
  },
  {
   "cell_type": "code",
   "execution_count": 189,
   "metadata": {},
   "outputs": [
    {
     "data": {
      "text/plain": [
       "(1026, 10)"
      ]
     },
     "execution_count": 189,
     "metadata": {},
     "output_type": "execute_result"
    }
   ],
   "source": [
    "result_df3.shape"
   ]
  },
  {
   "cell_type": "code",
   "execution_count": 190,
   "metadata": {},
   "outputs": [
    {
     "name": "stderr",
     "output_type": "stream",
     "text": [
      "/opt/anaconda3/envs/gres/lib/python3.8/site-packages/pandas/core/frame.py:3990: SettingWithCopyWarning: \n",
      "A value is trying to be set on a copy of a slice from a DataFrame\n",
      "\n",
      "See the caveats in the documentation: https://pandas.pydata.org/pandas-docs/stable/user_guide/indexing.html#returning-a-view-versus-a-copy\n",
      "  return super().drop(\n"
     ]
    }
   ],
   "source": [
    "# Dropping row with inconsistent salary\n",
    "result_df3.drop(index=4287, inplace=True)"
   ]
  },
  {
   "cell_type": "code",
   "execution_count": 191,
   "metadata": {},
   "outputs": [
    {
     "data": {
      "text/plain": [
       "(1025, 10)"
      ]
     },
     "execution_count": 191,
     "metadata": {},
     "output_type": "execute_result"
    }
   ],
   "source": [
    "result_df3.shape"
   ]
  },
  {
   "cell_type": "markdown",
   "metadata": {},
   "source": [
    "## Cleaning job_full_desc column"
   ]
  },
  {
   "cell_type": "code",
   "execution_count": 150,
   "metadata": {},
   "outputs": [],
   "source": [
    "result_df3.reset_index(inplace=True)"
   ]
  },
  {
   "cell_type": "code",
   "execution_count": 151,
   "metadata": {},
   "outputs": [
    {
     "data": {
      "text/html": [
       "<div>\n",
       "<style scoped>\n",
       "    .dataframe tbody tr th:only-of-type {\n",
       "        vertical-align: middle;\n",
       "    }\n",
       "\n",
       "    .dataframe tbody tr th {\n",
       "        vertical-align: top;\n",
       "    }\n",
       "\n",
       "    .dataframe thead th {\n",
       "        text-align: right;\n",
       "    }\n",
       "</style>\n",
       "<table border=\"1\" class=\"dataframe\">\n",
       "  <thead>\n",
       "    <tr style=\"text-align: right;\">\n",
       "      <th></th>\n",
       "      <th>index</th>\n",
       "      <th>job_id</th>\n",
       "      <th>s_keyword</th>\n",
       "      <th>job_title</th>\n",
       "      <th>city</th>\n",
       "      <th>job_type</th>\n",
       "      <th>job_field</th>\n",
       "      <th>job_subfield</th>\n",
       "      <th>range_sal</th>\n",
       "      <th>cleanedsalary</th>\n",
       "      <th>job_full_desc</th>\n",
       "    </tr>\n",
       "  </thead>\n",
       "  <tbody>\n",
       "    <tr>\n",
       "      <th>0</th>\n",
       "      <td>3</td>\n",
       "      <td>50372185</td>\n",
       "      <td>data-analyst</td>\n",
       "      <td>Graduate Analyst Position - Melbourne</td>\n",
       "      <td>Melbourne</td>\n",
       "      <td>This is a Full Time job</td>\n",
       "      <td>Sales</td>\n",
       "      <td>Analysis &amp; Reporting</td>\n",
       "      <td>30000-60000</td>\n",
       "      <td>50000</td>\n",
       "      <td>The Business\\n\\nFounded in 2014 this Australian owned company has become Australia’s fastest growing home appliance wholesaler/distributor, servicing a number of Australia’s largest retailers and ...</td>\n",
       "    </tr>\n",
       "  </tbody>\n",
       "</table>\n",
       "</div>"
      ],
      "text/plain": [
       "   index    job_id     s_keyword                              job_title  \\\n",
       "0      3  50372185  data-analyst  Graduate Analyst Position - Melbourne   \n",
       "\n",
       "        city                 job_type job_field          job_subfield  \\\n",
       "0  Melbourne  This is a Full Time job     Sales  Analysis & Reporting   \n",
       "\n",
       "     range_sal cleanedsalary  \\\n",
       "0  30000-60000         50000   \n",
       "\n",
       "                                                                                                                                                                                             job_full_desc  \n",
       "0  The Business\\n\\nFounded in 2014 this Australian owned company has become Australia’s fastest growing home appliance wholesaler/distributor, servicing a number of Australia’s largest retailers and ...  "
      ]
     },
     "execution_count": 151,
     "metadata": {},
     "output_type": "execute_result"
    }
   ],
   "source": [
    "result_df3.head(1)"
   ]
  },
  {
   "cell_type": "code",
   "execution_count": 152,
   "metadata": {},
   "outputs": [],
   "source": [
    "pd.set_option('display.max_colwidth',50)"
   ]
  },
  {
   "cell_type": "code",
   "execution_count": null,
   "metadata": {},
   "outputs": [],
   "source": [
    "# Cleaning DataSet for question 1\n",
    "result_df3['job_full_desc'].replace(to_replace='\\n\\n|\\n|\\/', value=' ', regex=True, inplace=True)\n",
    "result_df3['job_full_desc'].replace(to_replace='[(\\d+)|\\[\\]\\$\\(\\)\\!\\%]', value='', regex=True, inplace=True)\n",
    "result_df3['job_full_desc'].str.lower()"
   ]
  },
  {
   "cell_type": "code",
   "execution_count": null,
   "metadata": {},
   "outputs": [],
   "source": [
    "# Cleaning DataSet for question 2\n",
    "result_df4['job_full_desc'].replace(to_replace='\\n\\n|\\n|\\/', value=' ', regex=True, inplace=True)\n",
    "result_df4['job_full_desc'].replace(to_replace='[(\\d+)|\\[\\]\\$\\(\\)\\!\\%]', value='', regex=True, inplace=True)\n",
    "result_df4['job_full_desc'].str.lower()"
   ]
  },
  {
   "cell_type": "code",
   "execution_count": 196,
   "metadata": {},
   "outputs": [
    {
     "data": {
      "text/html": [
       "<div>\n",
       "<style scoped>\n",
       "    .dataframe tbody tr th:only-of-type {\n",
       "        vertical-align: middle;\n",
       "    }\n",
       "\n",
       "    .dataframe tbody tr th {\n",
       "        vertical-align: top;\n",
       "    }\n",
       "\n",
       "    .dataframe thead th {\n",
       "        text-align: right;\n",
       "    }\n",
       "</style>\n",
       "<table border=\"1\" class=\"dataframe\">\n",
       "  <thead>\n",
       "    <tr style=\"text-align: right;\">\n",
       "      <th></th>\n",
       "      <th>job_id</th>\n",
       "      <th>s_keyword</th>\n",
       "      <th>job_title</th>\n",
       "      <th>city</th>\n",
       "      <th>job_type</th>\n",
       "      <th>job_field</th>\n",
       "      <th>job_subfield</th>\n",
       "      <th>range_sal</th>\n",
       "      <th>cleanedsalary</th>\n",
       "      <th>job_full_desc</th>\n",
       "    </tr>\n",
       "  </thead>\n",
       "  <tbody>\n",
       "  </tbody>\n",
       "</table>\n",
       "</div>"
      ],
      "text/plain": [
       "Empty DataFrame\n",
       "Columns: [job_id, s_keyword, job_title, city, job_type, job_field, job_subfield, range_sal, cleanedsalary, job_full_desc]\n",
       "Index: []"
      ]
     },
     "execution_count": 196,
     "metadata": {},
     "output_type": "execute_result"
    }
   ],
   "source": [
    "result_df3[result_df3.cleanedsalary == 97000000]"
   ]
  },
  {
   "cell_type": "code",
   "execution_count": 197,
   "metadata": {},
   "outputs": [
    {
     "name": "stderr",
     "output_type": "stream",
     "text": [
      "<ipython-input-197-163a9a1afbce>:1: SettingWithCopyWarning: \n",
      "A value is trying to be set on a copy of a slice from a DataFrame.\n",
      "Try using .loc[row_indexer,col_indexer] = value instead\n",
      "\n",
      "See the caveats in the documentation: https://pandas.pydata.org/pandas-docs/stable/user_guide/indexing.html#returning-a-view-versus-a-copy\n",
      "  result_df3['cleanedsalary'] = result_df3['cleanedsalary'].apply(lambda x: int(x))\n"
     ]
    }
   ],
   "source": [
    "result_df3['cleanedsalary'] = result_df3['cleanedsalary'].apply(lambda x: int(x))"
   ]
  },
  {
   "cell_type": "code",
   "execution_count": 198,
   "metadata": {},
   "outputs": [
    {
     "data": {
      "text/plain": [
       "job_id            int64\n",
       "s_keyword        object\n",
       "job_title        object\n",
       "city             object\n",
       "job_type         object\n",
       "job_field        object\n",
       "job_subfield     object\n",
       "range_sal        object\n",
       "cleanedsalary     int64\n",
       "job_full_desc    object\n",
       "dtype: object"
      ]
     },
     "execution_count": 198,
     "metadata": {},
     "output_type": "execute_result"
    }
   ],
   "source": [
    "result_df3.dtypes"
   ]
  },
  {
   "cell_type": "code",
   "execution_count": 199,
   "metadata": {},
   "outputs": [
    {
     "data": {
      "text/plain": [
       "array([ 50000,  60000,  55000,  65325,  65000,  54000,  51000,  45000,\n",
       "        85000,  40000, 100000,  85279,  98396,  80000,  90000,  70000,\n",
       "        67195, 120000, 115000,  88004,  98744, 125000,  80669,  75000,\n",
       "        69401, 105000,  93000,  95000,  86434,  86000,  96527, 101955,\n",
       "        89314,  91250, 110000,  84930,  94471, 135000, 140000, 180000,\n",
       "       150000, 116156, 160000, 130000, 188381, 165000, 200000, 137000,\n",
       "       170000, 300000, 147804, 250000,  17000,  56000,  67000,  64000,\n",
       "        58000,  29000,  79000,  63000,  63670,  35000,  12000, 107865,\n",
       "        97000,  97152,  90743, 190000,  87000,  77000,  70146, 108147,\n",
       "       109000,  93266, 109224,  98000,  79452,  82208,  82178,  73160,\n",
       "        74233, 144126, 127559, 220000, 120200, 118015, 110745, 128089,\n",
       "       113735, 240000, 108000, 125444, 145000, 127384, 124752, 155000,\n",
       "        10000,  84279,  88994,  97812, 103409,  68000,  89766,  73000])"
      ]
     },
     "execution_count": 199,
     "metadata": {},
     "output_type": "execute_result"
    }
   ],
   "source": [
    "result_df3['cleanedsalary'].unique()"
   ]
  },
  {
   "cell_type": "code",
   "execution_count": 205,
   "metadata": {},
   "outputs": [
    {
     "name": "stderr",
     "output_type": "stream",
     "text": [
      "/opt/anaconda3/envs/gres/lib/python3.8/site-packages/pandas/core/frame.py:3990: SettingWithCopyWarning: \n",
      "A value is trying to be set on a copy of a slice from a DataFrame\n",
      "\n",
      "See the caveats in the documentation: https://pandas.pydata.org/pandas-docs/stable/user_guide/indexing.html#returning-a-view-versus-a-copy\n",
      "  return super().drop(\n"
     ]
    },
    {
     "data": {
      "text/plain": [
       "job_id            int64\n",
       "s_keyword        object\n",
       "job_title        object\n",
       "city             object\n",
       "job_type         object\n",
       "job_field        object\n",
       "job_subfield     object\n",
       "range_sal        object\n",
       "job_full_desc    object\n",
       "dtype: object"
      ]
     },
     "execution_count": 205,
     "metadata": {},
     "output_type": "execute_result"
    }
   ],
   "source": [
    "result_df4.drop(columns='cleanedsalary', axis=1, inplace=True)\n",
    "result_df4.dtypes"
   ]
  },
  {
   "cell_type": "code",
   "execution_count": 206,
   "metadata": {},
   "outputs": [
    {
     "name": "stdout",
     "output_type": "stream",
     "text": [
      "(1025, 10)\n",
      "(5898, 9)\n"
     ]
    }
   ],
   "source": [
    "# Creating a CSV file, ready for modeling in question 1\n",
    "result_df3.to_csv('jobs_project4-modelQ1.csv',index=False)\n",
    "print(result_df3.shape)\n",
    "\n",
    "# Creating a CSV file, ready for modeing in question 2\n",
    "result_df4.to_csv('jobs_project4-modelQ2.csv',index=False)\n",
    "print(result_df4.shape)"
   ]
  }
 ],
 "metadata": {
  "kernelspec": {
   "display_name": "Python 3",
   "language": "python",
   "name": "python3"
  },
  "language_info": {
   "codemirror_mode": {
    "name": "ipython",
    "version": 3
   },
   "file_extension": ".py",
   "mimetype": "text/x-python",
   "name": "python",
   "nbconvert_exporter": "python",
   "pygments_lexer": "ipython3",
   "version": "3.8.5"
  }
 },
 "nbformat": 4,
 "nbformat_minor": 4
}
